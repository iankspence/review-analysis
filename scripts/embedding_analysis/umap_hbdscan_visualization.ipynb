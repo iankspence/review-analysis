{
 "cells": [
  {
   "cell_type": "code",
   "execution_count": null,
   "id": "2863ea66",
   "metadata": {
    "scrolled": true
   },
   "outputs": [],
   "source": [
    "!pip install hdbscan"
   ]
  },
  {
   "cell_type": "code",
   "execution_count": null,
   "id": "633e5dd2",
   "metadata": {},
   "outputs": [],
   "source": [
    "!pip install umap-learn"
   ]
  },
  {
   "cell_type": "code",
   "execution_count": null,
   "id": "45bb693e",
   "metadata": {
    "scrolled": true
   },
   "outputs": [],
   "source": [
    "!pip install plotly"
   ]
  },
  {
   "cell_type": "code",
   "execution_count": null,
   "id": "eda36b2b",
   "metadata": {},
   "outputs": [],
   "source": [
    "import os\n",
    "import pandas as pd\n",
    "import numpy as np\n",
    "from sklearn.manifold import TSNE\n",
    "from sklearn.decomposition import PCA\n",
    "import hdbscan\n",
    "import ast\n",
    "from umap.umap_ import UMAP\n",
    "import plotly.graph_objects as go"
   ]
  },
  {
   "cell_type": "code",
   "execution_count": null,
   "id": "bb8bcd70",
   "metadata": {},
   "outputs": [],
   "source": [
    "# Define file paths and parameters\n",
    "\n",
    "input_csv_orig = '/Users/ianspence/Desktop/review-analysis/output/embedding_analysis/csv/review_embeddings.csv'\n",
    "input_csv_anon = '/Users/ianspence/Desktop/review-analysis/output/embedding_analysis/csv/anonymized_reviews_qc1_4500_embeddings.csv'"
   ]
  },
  {
   "cell_type": "code",
   "execution_count": null,
   "id": "9d700a86",
   "metadata": {},
   "outputs": [],
   "source": [
    "# Load and process data (orig)\n",
    "\n",
    "df_orig = pd.read_csv(input_csv_orig)\n",
    "df_orig = df_orig.head(4500)  # Limit to first 4500 rows\n",
    "df_orig['Embedding'] = df_orig.Embedding.apply(ast.literal_eval).apply(np.array)\n",
    "matrix_orig = np.array(df_orig.Embedding.to_list())"
   ]
  },
  {
   "cell_type": "code",
   "execution_count": null,
   "id": "42b22e1f",
   "metadata": {},
   "outputs": [],
   "source": [
    "# Wrap text (orig)\n",
    "\n",
    "def wrap_text(text, max_length=30):\n",
    "    \"\"\"Inserts line breaks into text to make it wrap in the hover label.\"\"\"\n",
    "    words = text.split()\n",
    "    lines = []\n",
    "    current_line = \"\"\n",
    "    for word in words:\n",
    "        if len(current_line) + len(word) + 1 > max_length:  # +1 for the space\n",
    "            lines.append(current_line)\n",
    "            current_line = word\n",
    "        else:\n",
    "            current_line += \" \" + word\n",
    "    lines.append(current_line)\n",
    "    return \"<br>\".join(lines)\n",
    "\n",
    "df_orig['Wrapped_Review_Text'] = df_orig['Review_Text'].apply(wrap_text)"
   ]
  },
  {
   "cell_type": "code",
   "execution_count": null,
   "id": "dc4e5c3a",
   "metadata": {},
   "outputs": [],
   "source": [
    "# Reduce dimensions with UMAP (orig)\n",
    "\n",
    "um_orig = UMAP(n_components=3, n_neighbors=50)\n",
    "matrix_reduced_orig = um_orig.fit_transform(matrix_orig)"
   ]
  },
  {
   "cell_type": "code",
   "execution_count": null,
   "id": "890e24d6",
   "metadata": {},
   "outputs": [],
   "source": [
    "# Visualize in 3D without colouring by cluster (orig) \n",
    "\n",
    "fig = go.Figure(data=[go.Scatter3d(\n",
    "    x=matrix_reduced_orig[:, 0], y=matrix_reduced_orig[:, 1], z=matrix_reduced_orig[:, 2],\n",
    "    mode='markers',\n",
    "    marker=dict(\n",
    "        size=2,\n",
    "#         color=df['Cluster'].values,\n",
    "#         colorscale='Viridis',\n",
    "        opacity=0.8\n",
    "    ),\n",
    "    text=df_orig['Wrapped_Review_Text']\n",
    ")])\n",
    "fig.show()"
   ]
  },
  {
   "cell_type": "code",
   "execution_count": null,
   "id": "68865fba",
   "metadata": {},
   "outputs": [],
   "source": [
    "# Cluster data using HBDSCAN (orig)\n",
    "\n",
    "hdb = hdbscan.HDBSCAN(min_cluster_size=40, min_samples=4)\n",
    "hdb_orig = hdb.fit(matrix_reduced_orig)\n",
    "df_anon['Cluster'] = hdb_orig.labels_\n",
    "\n",
    "# df_orig.sort_values(by='Cluster', inplace=True)\n",
    "# output_csv_orig = '/Users/ianspence/Desktop/review-analysis/output/embedding_analysis/csv/reviews_qc1_4500_embeddings_minclusters40_minsamples4_.csv'\n",
    "# # df.to_csv(output_csv_orig, index=False)"
   ]
  },
  {
   "cell_type": "code",
   "execution_count": null,
   "id": "87847749",
   "metadata": {},
   "outputs": [],
   "source": []
  },
  {
   "cell_type": "code",
   "execution_count": null,
   "id": "4e5ff557",
   "metadata": {},
   "outputs": [],
   "source": [
    "# Load and process data (anon)\n",
    "\n",
    "df_anon = pd.read_csv(input_csv_anon)\n",
    "df_anon = df_anon.head(4500)  # Limit to first 4500 rows\n",
    "df_anon['Anonymous_Embedding'] = df_anon.Anonymous_Embedding.apply(ast.literal_eval).apply(np.array)\n",
    "matrix_anon = np.array(df_anon.Anonymous_Embedding.to_list())"
   ]
  },
  {
   "cell_type": "code",
   "execution_count": null,
   "id": "dc7f1613",
   "metadata": {},
   "outputs": [],
   "source": [
    "# Wrap text (anon)\n",
    "\n",
    "df_anon['Wrapped_Anonymized_Review_Text'] = df_anon['Anonymized_Review_Text'].apply(wrap_text)"
   ]
  },
  {
   "cell_type": "code",
   "execution_count": null,
   "id": "b1783ed0",
   "metadata": {},
   "outputs": [],
   "source": [
    "# Reduce dimensions with UMAP (anon)\n",
    "\n",
    "um_anon = UMAP(n_components=3, n_neighbors=50)\n",
    "matrix_reduced_anon = um_anon.fit_transform(matrix_anon)"
   ]
  },
  {
   "cell_type": "code",
   "execution_count": null,
   "id": "4c12d2a4",
   "metadata": {},
   "outputs": [],
   "source": [
    "# Visualize in 3D without colouring by cluster (anon) \n",
    "\n",
    "fig = go.Figure(data=[go.Scatter3d(\n",
    "    x=matrix_reduced_anon[:, 0], y=matrix_reduced_anon[:, 1], z=matrix_reduced_anon[:, 2],\n",
    "    mode='markers',\n",
    "    marker=dict(\n",
    "        size=2,\n",
    "#         color=df['Cluster'].values,\n",
    "#         colorscale='Viridis',\n",
    "        opacity=0.8\n",
    "    ),\n",
    "    text=df_anon['Wrapped_Anonymized_Review_Text']\n",
    ")])\n",
    "\n",
    "fig.show()"
   ]
  },
  {
   "cell_type": "code",
   "execution_count": null,
   "id": "9b765ed4",
   "metadata": {},
   "outputs": [],
   "source": [
    "# Cluster data using HBDSCAN (anon)\n",
    "\n",
    "hdb = hdbscan.HDBSCAN(min_cluster_size=40, min_samples=4)\n",
    "\n",
    "hdb_anon = hdb.fit(matrix_reduced_anon)\n",
    "df_anon['Cluster'] = hdb_anon.labels_\n",
    "\n",
    "# df_anon.sort_values(by='Cluster', inplace=True)\n",
    "# output_csv_anon = '/Users/ianspence/Desktop/review-analysis/output/embedding_analysis/csv/anonymized_reviews_qc1_4500_embeddings_minclusters40_minsamples4_.csv'\n",
    "# df.to_csv(output_csv_anon, index=False)"
   ]
  },
  {
   "cell_type": "code",
   "execution_count": null,
   "id": "04a36e04",
   "metadata": {},
   "outputs": [],
   "source": []
  },
  {
   "cell_type": "code",
   "execution_count": null,
   "id": "b9bc81f7",
   "metadata": {},
   "outputs": [],
   "source": []
  },
  {
   "cell_type": "code",
   "execution_count": null,
   "id": "b471ff5b",
   "metadata": {},
   "outputs": [],
   "source": []
  },
  {
   "cell_type": "code",
   "execution_count": null,
   "id": "90df5e01",
   "metadata": {},
   "outputs": [],
   "source": [
    "# Testing area for exploring different parameters for UMAP and HBDSCAN"
   ]
  },
  {
   "cell_type": "code",
   "execution_count": null,
   "id": "81492faf",
   "metadata": {},
   "outputs": [],
   "source": [
    "um_anon = UMAP(n_components=3, n_neighbors=25)\n",
    "matrix_reduced_anon = um_anon.fit_transform(matrix_anon)\n"
   ]
  },
  {
   "cell_type": "code",
   "execution_count": null,
   "id": "b56cd48e",
   "metadata": {},
   "outputs": [],
   "source": [
    "fig = go.Figure(data=[go.Scatter3d(\n",
    "    x=matrix_reduced_anon[:, 0], y=matrix_reduced_anon[:, 1], z=matrix_reduced_anon[:, 2],\n",
    "    mode='markers',\n",
    "    marker=dict(\n",
    "        size=2,\n",
    "#         color=df['Cluster'].values,\n",
    "#         colorscale='Viridis',\n",
    "        opacity=0.8\n",
    "    ),\n",
    "    text=df_anon['Wrapped_Anonymized_Review_Text']\n",
    ")])\n",
    "\n",
    "fig.show()"
   ]
  },
  {
   "cell_type": "code",
   "execution_count": null,
   "id": "bbc19a53",
   "metadata": {},
   "outputs": [],
   "source": [
    "um_anon = UMAP(n_components=3, n_neighbors=10)\n",
    "matrix_reduced_anon = um_anon.fit_transform(matrix_anon)\n"
   ]
  },
  {
   "cell_type": "code",
   "execution_count": null,
   "id": "5b1d921c",
   "metadata": {},
   "outputs": [],
   "source": [
    "fig = go.Figure(data=[go.Scatter3d(\n",
    "    x=matrix_reduced_anon[:, 0], y=matrix_reduced_anon[:, 1], z=matrix_reduced_anon[:, 2],\n",
    "    mode='markers',\n",
    "    marker=dict(\n",
    "        size=2,\n",
    "#         color=df['Cluster'].values,\n",
    "#         colorscale='Viridis',\n",
    "        opacity=0.8\n",
    "    ),\n",
    "    text=df_anon['Wrapped_Anonymized_Review_Text']\n",
    ")])\n",
    "\n",
    "fig.show()"
   ]
  },
  {
   "cell_type": "code",
   "execution_count": null,
   "id": "73843460",
   "metadata": {},
   "outputs": [],
   "source": [
    "um_anon = UMAP(n_components=3, n_neighbors=18)\n",
    "matrix_reduced_anon = um_anon.fit_transform(matrix_anon)"
   ]
  },
  {
   "cell_type": "code",
   "execution_count": null,
   "id": "a5ec4ca3",
   "metadata": {},
   "outputs": [],
   "source": [
    "fig = go.Figure(data=[go.Scatter3d(\n",
    "    x=matrix_reduced_anon[:, 0], y=matrix_reduced_anon[:, 1], z=matrix_reduced_anon[:, 2],\n",
    "    mode='markers',\n",
    "    marker=dict(\n",
    "        size=2,\n",
    "#         color=df['Cluster'].values,\n",
    "#         colorscale='Viridis',\n",
    "        opacity=0.8\n",
    "    ),\n",
    "    text=df_anon['Wrapped_Anonymized_Review_Text']\n",
    ")])\n",
    "\n",
    "fig.show()"
   ]
  },
  {
   "cell_type": "code",
   "execution_count": null,
   "id": "84f738fc",
   "metadata": {},
   "outputs": [],
   "source": [
    "um_anon = UMAP(n_components=3, n_neighbors=5)\n",
    "matrix_reduced_anon = um_anon.fit_transform(matrix_anon)"
   ]
  },
  {
   "cell_type": "code",
   "execution_count": null,
   "id": "959c5a20",
   "metadata": {},
   "outputs": [],
   "source": [
    "fig = go.Figure(data=[go.Scatter3d(\n",
    "    x=matrix_reduced_anon[:, 0], y=matrix_reduced_anon[:, 1], z=matrix_reduced_anon[:, 2],\n",
    "    mode='markers',\n",
    "    marker=dict(\n",
    "        size=2,\n",
    "#         color=df['Cluster'].values,\n",
    "#         colorscale='Viridis',\n",
    "        opacity=0.8\n",
    "    ),\n",
    "    text=df_anon['Wrapped_Anonymized_Review_Text']\n",
    ")])\n",
    "\n",
    "fig.show()"
   ]
  },
  {
   "cell_type": "code",
   "execution_count": null,
   "id": "59b0537f",
   "metadata": {},
   "outputs": [],
   "source": [
    "um_anon = UMAP(n_components=2, n_neighbors=5)\n",
    "matrix_reduced_anon = um_anon.fit_transform(matrix_anon)\n"
   ]
  },
  {
   "cell_type": "code",
   "execution_count": null,
   "id": "d7452185",
   "metadata": {},
   "outputs": [],
   "source": [
    "\n",
    "hdb = hdbscan.HDBSCAN(min_cluster_size=25, min_samples=5)\n",
    "\n",
    "hdb_output = hdb.fit(matrix_anon)\n",
    "df_anon['Cluster'] = hdb_output.labels_\n",
    "# df_anon.sort_values(by='Cluster', inplace=True)\n",
    "\n",
    "output_csv_anon = '/Users/ianspence/Desktop/review-analysis/output/embedding_analysis/csv/anonymized_reviews_qc1_4500_embeddings_min_cluster_50.csv'\n",
    "\n",
    "df_anon.to_csv(output_csv_anon, index=False)"
   ]
  },
  {
   "cell_type": "code",
   "execution_count": null,
   "id": "0a3c8004",
   "metadata": {},
   "outputs": [],
   "source": [
    "fig = go.Figure(data=go.Scatter(\n",
    "    x=matrix_reduced_anon[:, 0], \n",
    "    y=matrix_reduced_anon[:, 1], \n",
    "    mode='markers',\n",
    "    marker=dict(\n",
    "        size=5,\n",
    "        color=df_anon['Cluster'].values,\n",
    "        colorscale='Viridis',\n",
    "        opacity=0.8\n",
    "    ),\n",
    "    hovertext=df_anon['Wrapped_Anonymized_Review_Text'],\n",
    "    hoverinfo='text'\n",
    "))\n",
    "\n",
    "fig.show()"
   ]
  },
  {
   "cell_type": "code",
   "execution_count": null,
   "id": "12715388",
   "metadata": {},
   "outputs": [],
   "source": [
    "um_anon = UMAP(n_components=2, n_neighbors=3)\n",
    "matrix_reduced_anon = um_anon.fit_transform(matrix_anon)\n"
   ]
  },
  {
   "cell_type": "code",
   "execution_count": null,
   "id": "fd319a8d",
   "metadata": {},
   "outputs": [],
   "source": [
    "fig = go.Figure(data=go.Scatter(\n",
    "    x=matrix_reduced_anon[:, 0], \n",
    "    y=matrix_reduced_anon[:, 1], \n",
    "    mode='markers',\n",
    "    marker=dict(\n",
    "        size=5,\n",
    "#         color=df_anon['Cluster'].values,\n",
    "#         colorscale='Viridis',\n",
    "        opacity=0.8\n",
    "    ),\n",
    "    hovertext=df_anon['Wrapped_Anonymized_Review_Text'],\n",
    "    hoverinfo='text'\n",
    "))\n",
    "\n",
    "fig.show()"
   ]
  },
  {
   "cell_type": "code",
   "execution_count": null,
   "id": "711d45f5",
   "metadata": {},
   "outputs": [],
   "source": [
    "um_anon = UMAP(n_components=3, n_neighbors=5)\n",
    "matrix_reduced_anon = um_anon.fit_transform(matrix_anon)\n"
   ]
  },
  {
   "cell_type": "code",
   "execution_count": null,
   "id": "7ad936f3",
   "metadata": {},
   "outputs": [],
   "source": [
    "\n",
    "hdb = hdbscan.HDBSCAN(min_cluster_size=40, min_samples=4)\n",
    "\n",
    "hdb_output = hdb.fit(matrix_reduced_anon)\n",
    "df_anon['Cluster'] = hdb_output.labels_\n",
    "# df_anon.sort_values(by='Cluster', inplace=True)\n",
    "\n",
    "output_csv_anon = '/Users/ianspence/Desktop/review-analysis/output/embedding_analysis/csv/anonymized_reviews_qc1_4500_embeddings_min_cluster_50.csv'\n",
    "\n",
    "# df_anon.to_csv(output_csv_anon, index=False)"
   ]
  },
  {
   "cell_type": "code",
   "execution_count": null,
   "id": "cf1e49a2",
   "metadata": {
    "scrolled": true
   },
   "outputs": [],
   "source": [
    "# fig = go.Figure(data=go.Scatter(\n",
    "#     x=matrix_reduced_anon[:, 0], \n",
    "#     y=matrix_reduced_anon[:, 1], \n",
    "#     mode='markers',\n",
    "#     marker=dict(\n",
    "#         size=5,\n",
    "#         color=df_anon['Cluster'].values,\n",
    "# #         colorscale='Viridis',\n",
    "#         opacity=0.8\n",
    "#     ),\n",
    "#     hovertext=df_anon['Wrapped_Anonymized_Review_Text'],\n",
    "#     hoverinfo='text'\n",
    "# ))\n",
    "\n",
    "# fig.show()\n",
    "\n",
    "fig = go.Figure(data=[go.Scatter3d(\n",
    "    x=matrix_reduced_anon[:, 0], y=matrix_reduced_anon[:, 1], z=matrix_reduced_anon[:, 2],\n",
    "    mode='markers',\n",
    "    marker=dict(\n",
    "        size=2,\n",
    "        color=df_anon['Cluster'].values,\n",
    "#         colorscale='Viridis',\n",
    "        opacity=0.8\n",
    "    ),\n",
    "    text=df_anon['Wrapped_Anonymized_Review_Text']\n",
    ")])\n",
    "\n",
    "fig.show()"
   ]
  },
  {
   "cell_type": "code",
   "execution_count": null,
   "id": "8d07110b",
   "metadata": {},
   "outputs": [],
   "source": [
    "# df_anon.sort_values(by='Cluster', inplace=True)\n",
    "output_csv_anon = '/Users/ianspence/Desktop/review-analysis/output/embedding_analysis/csv/anonymized_reviews_qc1_4500_embeddings_min_cluster_30_min_samples_15.csv'\n",
    "\n",
    "df_anon_save = df_anon.copy()\n",
    "df_anon_save.sort_values(by='Cluster', inplace=True)\n",
    "df_anon_save.to_csv(output_csv_anon, index=False)"
   ]
  },
  {
   "cell_type": "code",
   "execution_count": null,
   "id": "51b0b799",
   "metadata": {},
   "outputs": [],
   "source": [
    "um_anon = UMAP(n_components=3, n_neighbors=4)\n",
    "matrix_reduced_anon = um_anon.fit_transform(matrix_anon)"
   ]
  },
  {
   "cell_type": "code",
   "execution_count": null,
   "id": "202cbf01",
   "metadata": {},
   "outputs": [],
   "source": [
    "hdb = hdbscan.HDBSCAN(min_cluster_size=40, min_samples=4)\n",
    "\n",
    "hdb_output = hdb.fit(matrix_reduced_anon)\n",
    "df_anon['Cluster'] = hdb_output.labels_\n",
    "# df_anon.sort_values(by='Cluster', inplace=True)\n",
    "\n",
    "output_csv_anon = '/Users/ianspence/Desktop/review-analysis/output/embedding_analysis/csv/anonymized_reviews_qc1_4500_embeddings_min_cluster_50.csv'\n",
    "\n",
    "# df_anon.to_csv(output_csv_anon, index=False)"
   ]
  },
  {
   "cell_type": "code",
   "execution_count": null,
   "id": "09bef655",
   "metadata": {},
   "outputs": [],
   "source": [
    "fig = go.Figure(data=[go.Scatter3d(\n",
    "    x=matrix_reduced_anon[:, 0], y=matrix_reduced_anon[:, 1], z=matrix_reduced_anon[:, 2],\n",
    "    mode='markers',\n",
    "    marker=dict(\n",
    "        size=2,\n",
    "        color=df_anon['Cluster'].values,\n",
    "#         colorscale='Viridis',\n",
    "        opacity=0.8\n",
    "    ),\n",
    "    text=df_anon['Wrapped_Anonymized_Review_Text']\n",
    ")])\n",
    "\n",
    "fig.show()"
   ]
  },
  {
   "cell_type": "code",
   "execution_count": null,
   "id": "056638b0",
   "metadata": {},
   "outputs": [],
   "source": [
    "um_anon = UMAP(n_components=3, n_neighbors=3)\n",
    "matrix_reduced_anon = um_anon.fit_transform(matrix_anon)\n"
   ]
  },
  {
   "cell_type": "code",
   "execution_count": null,
   "id": "6807301f",
   "metadata": {},
   "outputs": [],
   "source": [
    "hdb = hdbscan.HDBSCAN(min_cluster_size=40, min_samples=4)\n",
    "\n",
    "hdb_output = hdb.fit(matrix_reduced_anon)\n",
    "df_anon['Cluster'] = hdb_output.labels_\n",
    "# df_anon.sort_values(by='Cluster', inplace=True)\n",
    "\n",
    "output_csv_anon = '/Users/ianspence/Desktop/review-analysis/output/embedding_analysis/csv/anonymized_reviews_qc1_4500_embeddings_min_cluster_50.csv'\n"
   ]
  },
  {
   "cell_type": "code",
   "execution_count": null,
   "id": "41d3859f",
   "metadata": {},
   "outputs": [],
   "source": [
    "fig = go.Figure(data=[go.Scatter3d(\n",
    "    x=matrix_reduced_anon[:, 0], y=matrix_reduced_anon[:, 1], z=matrix_reduced_anon[:, 2],\n",
    "    mode='markers',\n",
    "    marker=dict(\n",
    "        size=3,\n",
    "        color=df_anon['Cluster'].values,\n",
    "#         colorscale='Viridis',\n",
    "        opacity=0.8\n",
    "    ),\n",
    "    text=df_anon['Wrapped_Anonymized_Review_Text']\n",
    ")])\n",
    "\n",
    "fig.show()"
   ]
  },
  {
   "cell_type": "code",
   "execution_count": null,
   "id": "1901219e",
   "metadata": {},
   "outputs": [],
   "source": [
    "um_anon = UMAP(n_components=3, n_neighbors=4)\n",
    "matrix_reduced_anon = um_anon.fit_transform(matrix_anon)\n"
   ]
  },
  {
   "cell_type": "code",
   "execution_count": null,
   "id": "0c5e36e9",
   "metadata": {},
   "outputs": [],
   "source": [
    "hdb = hdbscan.HDBSCAN(min_cluster_size=10, min_samples=4)\n",
    "\n",
    "hdb_output = hdb.fit(matrix_reduced_anon)\n",
    "df_anon['Cluster'] = hdb_output.labels_\n",
    "# df_anon.sort_values(by='Cluster', inplace=True)\n",
    "\n",
    "output_csv_anon = '/Users/ianspence/Desktop/review-analysis/output/embedding_analysis/csv/anonymized_reviews_qc1_4500_embeddings_min_cluster_50.csv'\n"
   ]
  },
  {
   "cell_type": "code",
   "execution_count": null,
   "id": "77c6c2e2",
   "metadata": {},
   "outputs": [],
   "source": [
    "fig = go.Figure(data=[go.Scatter3d(\n",
    "    x=matrix_reduced_anon[:, 0], y=matrix_reduced_anon[:, 1], z=matrix_reduced_anon[:, 2],\n",
    "    mode='markers',\n",
    "    marker=dict(\n",
    "        size=2,\n",
    "        color=df_anon['Cluster'].values,\n",
    "#         colorscale='Viridis',\n",
    "        opacity=0.8\n",
    "    ),\n",
    "    text=df_anon['Wrapped_Anonymized_Review_Text']\n",
    ")])\n",
    "\n",
    "fig.show()"
   ]
  },
  {
   "cell_type": "code",
   "execution_count": null,
   "id": "c3f7b2b1",
   "metadata": {},
   "outputs": [],
   "source": []
  }
 ],
 "metadata": {
  "kernelspec": {
   "display_name": "Python 3 (ipykernel)",
   "language": "python",
   "name": "python3"
  },
  "language_info": {
   "codemirror_mode": {
    "name": "ipython",
    "version": 3
   },
   "file_extension": ".py",
   "mimetype": "text/x-python",
   "name": "python",
   "nbconvert_exporter": "python",
   "pygments_lexer": "ipython3",
   "version": "3.8.17"
  }
 },
 "nbformat": 4,
 "nbformat_minor": 5
}
